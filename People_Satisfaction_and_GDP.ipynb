{
  "nbformat": 4,
  "nbformat_minor": 0,
  "metadata": {
    "colab": {
      "name": "People Satisfaction and GDP.ipynb",
      "provenance": [],
      "collapsed_sections": [],
      "toc_visible": true,
      "include_colab_link": true
    },
    "kernelspec": {
      "name": "python3",
      "display_name": "Python 3"
    }
  },
  "cells": [
    {
      "cell_type": "markdown",
      "metadata": {
        "id": "view-in-github",
        "colab_type": "text"
      },
      "source": [
        "<a href=\"https://colab.research.google.com/github/Snayderr/data_science/blob/main/People_Satisfaction_and_GDP.ipynb\" target=\"_parent\"><img src=\"https://colab.research.google.com/assets/colab-badge.svg\" alt=\"Open In Colab\"/></a>"
      ]
    },
    {
      "cell_type": "markdown",
      "metadata": {
        "id": "-sSMTG_Buxcm"
      },
      "source": [
        "# How to enable code completion:\n",
        "\n",
        "Tools menu ==> click on settings ==> Editor ==> Enable \"Automatically trigger code completions\"\n",
        "\n",
        "\n"
      ]
    },
    {
      "cell_type": "markdown",
      "metadata": {
        "id": "QCRbfMF4f27I"
      },
      "source": [
        ""
      ]
    },
    {
      "cell_type": "code",
      "metadata": {
        "id": "QjjRk-8xf3S6"
      },
      "source": [
        "\n"
      ],
      "execution_count": null,
      "outputs": []
    },
    {
      "cell_type": "code",
      "metadata": {
        "id": "er8TW5bPzn9d"
      },
      "source": [
        ""
      ],
      "execution_count": null,
      "outputs": []
    },
    {
      "cell_type": "markdown",
      "metadata": {
        "id": "x9L7_OwZix-k"
      },
      "source": [
        "#Instructions to create a copy of this notebook for youtself\n",
        "\n",
        "You do not have write access to this notebook.\n",
        "\n",
        "* From Menu bar, Go to File, \n",
        "* Select \"Save a copy in my Drive\"\n",
        "* Navigate to Google Drive\n",
        "* Find a folder named \"Collab Notebook\" and open it to find your notebook. \n",
        "* Rename it and start making changes.\n",
        "\n",
        "**Note**If there is any file you should read in your code, make sure you copy the file from instructor folder to your own Gdrive by following below steps:\n",
        "\n",
        "* Right clicking on the file name \n",
        "* Select \"Make a copy\"\n",
        "* Click on the new file\n",
        "* Move it to desired folder, preferrably where you have your notebook"
      ]
    },
    {
      "cell_type": "markdown",
      "metadata": {
        "id": "-OMhwXX0Euz1"
      },
      "source": [
        "# Predict People Satisfaction Across the Globe\n",
        "\n",
        "Problem Statement:\n",
        "\n",
        "We would like to build a model that predicts satisfaction score for people of different countries given their country GDP."
      ]
    },
    {
      "cell_type": "markdown",
      "metadata": {
        "id": "WaAyuEL-EfXy"
      },
      "source": [
        "# Download Dataset\n",
        "\n",
        "Download the Better Life Index data (latest edition, currently it is 2017) from the [OECD’s website](http://homl.info/4) as well as stats about GDP per capita from the [IMF’s website](http://homl.info/5). Then you join the tables and sort by GDP per capita. "
      ]
    },
    {
      "cell_type": "markdown",
      "metadata": {
        "id": "ZWasUlHjGGHc"
      },
      "source": [
        "# Import Dataset to Google Colab\n",
        "\n",
        "1. Download CSV and XLS files to your computer\n",
        "2. Upload them to your Google Drive\n",
        "3. Open the CSV files using Google Sheets so Google will create the dataset in format of Google Sheets\n",
        "4. You can remove CSV and XLS files from your drive\n",
        "5. Use the step by step guide from [here](https://colab.research.google.com/notebooks/io.ipynb#scrollTo=vz-jH8T_Uk2c) and scroll down to **\" Google Sheets\" ** cell to import data into dataframe\n",
        "\n",
        "NOTE: After creating Google Sheet into your Drive, make sure you are converting Column 2015 to 0.00 format before importing it into Colab  otherwise Google will import it as a string and you will have hard time to clean the data\n",
        "\n",
        "\n"
      ]
    },
    {
      "cell_type": "code",
      "metadata": {
        "id": "RhyqGUE9GFTF"
      },
      "source": [
        "# Run below line of code for the first time to install gspread. Once installed comment it for future use\n",
        "#!pip install --upgrade -q gspread\n",
        "from google.colab import auth\n",
        "auth.authenticate_user()\n",
        "\n",
        "import gspread\n",
        "from oauth2client.client import GoogleCredentials\n",
        "\n",
        "gc = gspread.authorize(GoogleCredentials.get_application_default())"
      ],
      "execution_count": null,
      "outputs": []
    },
    {
      "cell_type": "code",
      "metadata": {
        "id": "S4dGprUsK8q-"
      },
      "source": [
        "from google.colab import drive\n",
        "drive.mount('/content/drive')"
      ],
      "execution_count": null,
      "outputs": []
    },
    {
      "cell_type": "markdown",
      "metadata": {
        "id": "1QrOorPEHbDg"
      },
      "source": [
        "# Use gc to open Google Sheet Datasets"
      ]
    },
    {
      "cell_type": "code",
      "metadata": {
        "id": "4seJiwQyEYVG"
      },
      "source": [
        "#Open given sheet\n",
        "worksheet = gc.open('/content/drive/My Drive/Artificial intelligence/University of Toronto/3253 - Machine Learning/Colab/Week 1/Cópia de BLI_30012019054825599').sheet1\n",
        "\n",
        "# Read contents of CSV file\n",
        "bli_rows = worksheet.get_all_values()\n",
        "\n",
        "# Convert to a DataFrame and render.\n",
        "import pandas as pd\n",
        "bli  = pd.DataFrame.from_records(bli_rows, columns = bli_rows[0])\n",
        "\n",
        "# Remove rows where inequality has values other than TOT\n",
        "bli = bli[bli[\"INEQUALITY\"]==\"TOT\"]\n",
        "\n",
        "# Reformat data based on \"indicator column\"\n",
        "bli = bli.pivot(index=\"Country\", columns=\"Indicator\", values=\"Value\")\n",
        "#bli.head()\n",
        "bli[\"Life satisfaction\"].head()"
      ],
      "execution_count": null,
      "outputs": []
    },
    {
      "cell_type": "code",
      "metadata": {
        "id": "PS7ghYG9reu2"
      },
      "source": [
        "worksheet=gc.open('BLI_30012019054825599').sheet1\n",
        "bli_rows=worksheet.get_all_values()\n",
        "import pandas as pd\n",
        "bli=pd.DataFrame.from_records(bli_rows,columns=bli_rows[0])\n",
        "bli=bli[bli[\"INEQUALITY\"]=='TOT']\n",
        "bli=bli.pivot(index=\"Country\",columns=\"\")\n"
      ],
      "execution_count": null,
      "outputs": []
    },
    {
      "cell_type": "code",
      "metadata": {
        "id": "01edCO9kHJ2p"
      },
      "source": [
        "#Open given sheet\n",
        "worksheet = gc.open('WEO_Data').sheet1\n",
        "\n",
        "# Read contents of CSV file\n",
        "WEO_rows = worksheet.get_all_values()\n",
        "\n",
        "# Convert to a DataFrame and render.\n",
        "import pandas as pd\n",
        "weo  = pd.DataFrame.from_records(WEO_rows, columns = WEO_rows[0])\n",
        "\n",
        "# Drop the header row from data\n",
        "weo = weo.reindex(weo.index.drop(0))\n",
        "\n",
        "# 1- Select only Country name and 2015 \n",
        "# 2- then rename it to GDP Per capita\n",
        "weo = weo[['Country','2015']].rename(columns={'2015':'GDP per capita'})\n",
        "\n",
        "# Set Country as index column\n",
        "# Inplace command, will replace the results of command into the same DF\n",
        "weo.set_index(\"Country\", inplace=True)\n",
        "\n",
        "#weo.drop_duplicates(inplace=True)\n",
        "#Print top 5 rows\n",
        "weo.head()"
      ],
      "execution_count": null,
      "outputs": []
    },
    {
      "cell_type": "markdown",
      "metadata": {
        "id": "XX_8yJTKNPkt"
      },
      "source": [
        "# Merge/Join dataset"
      ]
    },
    {
      "cell_type": "code",
      "metadata": {
        "id": "ZibYb4W-HuEy"
      },
      "source": [
        "# Now merge BLI and WEO datasets\n",
        "df = pd.merge(left = weo, right = bli, left_index=True, right_index=True)\n",
        "df.sort_values(by=\"GDP per capita\", inplace=True)\n",
        "df.head()\n"
      ],
      "execution_count": null,
      "outputs": []
    },
    {
      "cell_type": "code",
      "metadata": {
        "id": "eoJn-lxSPfqP"
      },
      "source": [
        "df.iloc[3]"
      ],
      "execution_count": null,
      "outputs": []
    },
    {
      "cell_type": "markdown",
      "metadata": {
        "id": "MkSTXnclPGLd"
      },
      "source": [
        "## Split dataset into Train & Test"
      ]
    },
    {
      "cell_type": "code",
      "metadata": {
        "id": "6HOaSt93Nqkz"
      },
      "source": [
        "# Below is the most basic way of splitting data. It is for illustration only\n",
        "test_indices = [0, 1, 6, 8, 33, 34, 35]\n",
        "train_indices = list(set(range(36)) - set(test_indices))\n",
        "\n",
        "train = df[[\"GDP per capita\", 'Life satisfaction']].iloc[train_indices]\n",
        "test = df[[\"GDP per capita\", 'Life satisfaction']].iloc[test_indices]"
      ],
      "execution_count": null,
      "outputs": []
    },
    {
      "cell_type": "code",
      "metadata": {
        "id": "9CRVFFEX_voT"
      },
      "source": [
        "train.head()"
      ],
      "execution_count": null,
      "outputs": []
    },
    {
      "cell_type": "code",
      "metadata": {
        "id": "NqZnpDGyR_3f"
      },
      "source": [
        "# Code example\n",
        "import matplotlib.pyplot as plt\n",
        "import numpy as np\n",
        "import pandas as pd\n",
        "import sklearn.linear_model\n",
        "\n",
        "# Prepare the data\n",
        "X = np.c_[train[\"GDP per capita\"]]\n",
        "y = np.c_[train[\"Life satisfaction\"]]"
      ],
      "execution_count": null,
      "outputs": []
    },
    {
      "cell_type": "code",
      "metadata": {
        "id": "UzRnfo8yAEbI"
      },
      "source": [
        "type(y)"
      ],
      "execution_count": null,
      "outputs": []
    },
    {
      "cell_type": "code",
      "metadata": {
        "id": "BzUJ0hnrwYgd"
      },
      "source": [
        "#Lets look at what is inside X and y. Print first 5 records\n",
        "X[:5], y[:5]"
      ],
      "execution_count": null,
      "outputs": []
    },
    {
      "cell_type": "markdown",
      "metadata": {
        "id": "j0mSlugixP0C"
      },
      "source": [
        "# Note \n",
        "\n",
        "### So far everything was data processing in Python! Nothing advanced! \n",
        "\n",
        "### From this cell onwards, we will have Machine Learning!"
      ]
    },
    {
      "cell_type": "markdown",
      "metadata": {
        "id": "WJFLcCBgPPXj"
      },
      "source": [
        "## Define a model with default values"
      ]
    },
    {
      "cell_type": "code",
      "metadata": {
        "id": "_mimmXfQNTD1"
      },
      "source": [
        "# Select a basic linear model without setting any parameter (nothing inside paranthesis below)\n",
        "model = sklearn.linear_model.LinearRegression()\n",
        "\n",
        "# See the model for yourself\n",
        "model"
      ],
      "execution_count": null,
      "outputs": []
    },
    {
      "cell_type": "markdown",
      "metadata": {
        "id": "0pf1NGpkPSnD"
      },
      "source": [
        "## Start training the model using X and y"
      ]
    },
    {
      "cell_type": "code",
      "metadata": {
        "id": "NySTaTDMp_Ve"
      },
      "source": [
        "# Train the model\n",
        "model.fit(X, y)\n",
        "#model.coef_"
      ],
      "execution_count": null,
      "outputs": []
    },
    {
      "cell_type": "markdown",
      "metadata": {
        "id": "v519lr8DPW1v"
      },
      "source": [
        "## Do prediction on test data"
      ]
    },
    {
      "cell_type": "code",
      "metadata": {
        "id": "cMGgmbBJlcvb"
      },
      "source": [
        "# Make a prediction for Cyprus\n",
        "X_new = [[17770]]  # Cyprus' GDP per capita\n",
        "print(model.predict(X_new)) # outputs [[5.95199478]]"
      ],
      "execution_count": null,
      "outputs": []
    },
    {
      "cell_type": "code",
      "metadata": {
        "id": "46aihcuVpT0E"
      },
      "source": [
        "# Make a prediction for our test data\n",
        "pred = model.predict(test['GDP per capita'].values.reshape(-1,1))"
      ],
      "execution_count": null,
      "outputs": []
    },
    {
      "cell_type": "code",
      "metadata": {
        "id": "D9QinOHvItbt"
      },
      "source": [
        "pred"
      ],
      "execution_count": null,
      "outputs": []
    },
    {
      "cell_type": "markdown",
      "metadata": {
        "id": "cUa_ypmpaMLd"
      },
      "source": [
        "#Now, lets make it better!\n",
        "\n",
        "Use test dataset and predict the life expectancy using test dataset. "
      ]
    },
    {
      "cell_type": "markdown",
      "metadata": {
        "id": "m_aeltVpZcp3"
      },
      "source": [
        "# Evaluate Model"
      ]
    },
    {
      "cell_type": "code",
      "metadata": {
        "id": "fTHMYUFvZuD9"
      },
      "source": [
        "# Lets create train and test dataset, so we can use train dataset for training the model\n",
        "# and use test dataset to evaluate model performance \n",
        "X_train = np.c_[train[\"GDP per capita\"]]\n",
        "y_train = np.c_[train[\"Life satisfaction\"]]\n",
        "\n",
        "X_test = np.c_[test[\"GDP per capita\"]]\n",
        "y_test = np.c_[test[\"Life satisfaction\"]]\n",
        "\n",
        "model = model.fit(X_train,y_train)\n",
        "\n",
        "#Now apply the prediction on test dataset\n",
        "y_pred_test = model.predict(X_test)"
      ],
      "execution_count": null,
      "outputs": []
    },
    {
      "cell_type": "code",
      "metadata": {
        "id": "8DdKjw72Z-YN"
      },
      "source": [
        "# See predictions for yourself\n",
        "y_pred_test"
      ],
      "execution_count": null,
      "outputs": []
    },
    {
      "cell_type": "code",
      "metadata": {
        "id": "XgO5TjY8O_QT"
      },
      "source": [
        "from sklearn.metrics import mean_squared_error\n",
        "\n",
        "#MSE\n",
        "mean_squared_error(y_test, y_pred_test)\n"
      ],
      "execution_count": null,
      "outputs": []
    },
    {
      "cell_type": "code",
      "metadata": {
        "id": "JRCvYZHAZmKZ"
      },
      "source": [
        "#RMSE\n",
        "from math import sqrt\n",
        "sqrt(mean_squared_error(y_test, y_pred_test))\n"
      ],
      "execution_count": null,
      "outputs": []
    },
    {
      "cell_type": "markdown",
      "metadata": {
        "id": "4g05y180fTDX"
      },
      "source": [
        "# Question:\n",
        "\n",
        "### What would you expect if we normalize data and train the model again?"
      ]
    },
    {
      "cell_type": "markdown",
      "metadata": {
        "id": "h8hPONDlaxZM"
      },
      "source": [
        "# Now, normalize data before prediction"
      ]
    },
    {
      "cell_type": "code",
      "metadata": {
        "id": "YW04HGsLapBM"
      },
      "source": [
        "from sklearn.preprocessing import MinMaxScaler\n",
        "# Define Scaling technique\n",
        "scaler = MinMaxScaler()"
      ],
      "execution_count": null,
      "outputs": []
    },
    {
      "cell_type": "code",
      "metadata": {
        "id": "hFxrvpPpa5D6"
      },
      "source": [
        "# Train escaling object \n",
        "X_train_escaler = scaler.fit(X_train)\n",
        "\n",
        "# Apply scaling model to the data\n",
        "X_train_escaled = X_train_escaler.transform(X_train)\n",
        "X_train_escaled[:5]"
      ],
      "execution_count": null,
      "outputs": []
    },
    {
      "cell_type": "markdown",
      "metadata": {
        "id": "xcoCKpR1c7LC"
      },
      "source": [
        "#Normalize Test Dataset"
      ]
    },
    {
      "cell_type": "code",
      "metadata": {
        "id": "7ey1DwyWbClL"
      },
      "source": [
        "# Apply scaling model to the data\n",
        "X_test_escaled = X_train_escaler.transform(X_test)\n",
        "X_test_escaled"
      ],
      "execution_count": null,
      "outputs": []
    },
    {
      "cell_type": "markdown",
      "metadata": {
        "id": "-tHTOhKldbOC"
      },
      "source": [
        "# Train Models using Scaled Data"
      ]
    },
    {
      "cell_type": "markdown",
      "metadata": {
        "id": "SGtl94_EddFR"
      },
      "source": [
        "## Start training the model using X and y"
      ]
    },
    {
      "cell_type": "code",
      "metadata": {
        "id": "A9olddl0ddFR"
      },
      "source": [
        "model.fit(X_train_escaled, y_train)\n",
        "\n",
        "y_pred_escaled = model.predict(X_train_escaled)\n"
      ],
      "execution_count": null,
      "outputs": []
    },
    {
      "cell_type": "markdown",
      "metadata": {
        "id": "oN8ztq0gddFV"
      },
      "source": [
        "## Do prediction on test data"
      ]
    },
    {
      "cell_type": "code",
      "metadata": {
        "id": "NYyxFRRWfH0e"
      },
      "source": [
        "y_pred_escaled = model.predict(X_test_escaled)"
      ],
      "execution_count": null,
      "outputs": []
    },
    {
      "cell_type": "code",
      "metadata": {
        "id": "kg2h-_PkfNDz"
      },
      "source": [
        "#RMSE\n",
        "from math import sqrt\n",
        "sqrt(mean_squared_error(y_test, y_pred_escaled))\n"
      ],
      "execution_count": null,
      "outputs": []
    },
    {
      "cell_type": "markdown",
      "metadata": {
        "id": "Q4HfXFDKi_Y4"
      },
      "source": [
        "# Can you conclude by comparing RMSE from normalized and not normalized dataset?"
      ]
    },
    {
      "cell_type": "code",
      "metadata": {
        "id": "6lW3c6z3fQTU"
      },
      "source": [
        ""
      ],
      "execution_count": null,
      "outputs": []
    }
  ]
}