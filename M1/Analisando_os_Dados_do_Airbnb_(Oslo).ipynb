{
  "nbformat": 4,
  "nbformat_minor": 0,
  "metadata": {
    "colab": {
      "name": "Analisando_os_Dados_do_Airbnb (Oslo).ipynb",
      "provenance": [],
      "collapsed_sections": [],
      "include_colab_link": true
    },
    "kernelspec": {
      "name": "python3",
      "display_name": "Python 3"
    }
  },
  "cells": [
    {
      "cell_type": "markdown",
      "metadata": {
        "id": "view-in-github",
        "colab_type": "text"
      },
      "source": [
        "<a href=\"https://colab.research.google.com/github/Snayderr/data_science/blob/main/Analisando_os_Dados_do_Airbnb_(Oslo).ipynb\" target=\"_parent\"><img src=\"https://colab.research.google.com/assets/colab-badge.svg\" alt=\"Open In Colab\"/></a>"
      ]
    },
    {
      "cell_type": "markdown",
      "metadata": {
        "id": "kLI0gJtzDGuQ"
      },
      "source": [
        "<img alt=\"Colaboratory logo\" width=\"15%\" src=\"https://raw.githubusercontent.com/carlosfab/escola-data-science/master/img/novo_logo_bg_claro.png\">\n",
        "\n",
        "#### **Data Science na Prática 2.0**\n",
        "*by [sigmoidal.ai](https://sigmoidal.ai)*\n",
        "\n",
        "---\n",
        "\n",
        "# Análise dos Dados do Airbnb - *Oslo*\n",
        "\n",
        "O [Airbnb](https://www.airbnb.com.br/) já é considerado como sendo a **maior empresa hoteleira da atualidade**. Ah, o detalhe é que ele **não possui nenhum hotel**!\n",
        "\n",
        "Conectando pessoas que querem viajar (e se hospedar) com anfitriões que querem alugar seus imóveis de maneira prática, o Airbnb fornece uma plataforma inovadora para tornar essa hospedagem alternativa.\n",
        "\n",
        "No final de 2018, a Startup fundada 10 anos atrás, já havia **hospedado mais de 300 milhões** de pessoas ao redor de todo o mundo, desafiando as redes hoteleiras tradicionais.\n",
        "\n",
        "Uma das iniciativas do Airbnb é disponibilizar dados do site, para algumas das principais cidades do mundo. Por meio do portal [Inside Airbnb](http://insideairbnb.com/get-the-data.html), é possível baixar uma grande quantidade de dados para desenvolver projetos e soluções de *Data Science*.\n",
        "\n",
        "<center><img alt=\"Analisando Airbnb\" width=\"10%\" src=\"https://www.area360.com.au/wp-content/uploads/2017/09/airbnb-logo.jpg\"></center>\n",
        "\n",
        "**Neste *notebook*, iremos analisar os dados referentes à cidade de Oslo, e ver quais insights podem ser extraídos a partir de dados brutos.**"
      ]
    },
    {
      "cell_type": "markdown",
      "metadata": {
        "id": "0zxQHhIUDF_2"
      },
      "source": [
        "## Obtenção dos Dados\n"
      ]
    },
    {
      "cell_type": "code",
      "metadata": {
        "id": "Vhp2wMPgJ6zX"
      },
      "source": [
        "# importar os pacotes necessarios\n",
        "# importar os pacotes necessarios\n",
        "import pandas as pd\n",
        "import matplotlib.pyplot as plt\n",
        "import seaborn as sns\n",
        "\n",
        "%matplotlib inline"
      ],
      "execution_count": 69,
      "outputs": []
    },
    {
      "cell_type": "code",
      "metadata": {
        "id": "tUmoAT8DLQ5T"
      },
      "source": [
        "# importar o arquivo listings.csv para um DataFrame\n",
        "\n",
        "df = pd.read_csv(\"http://data.insideairbnb.com/norway/oslo/oslo/2020-12-31/visualisations/listings.csv\")"
      ],
      "execution_count": 70,
      "outputs": []
    },
    {
      "cell_type": "markdown",
      "metadata": {
        "id": "qb5By2nIMS6m"
      },
      "source": [
        "## Análise dos Dados\n"
      ]
    },
    {
      "cell_type": "markdown",
      "metadata": {
        "id": "RYgvuebKNg8-"
      },
      "source": [
        "**Dicionário das variáveis**\n",
        "\n",
        "* id - número de id gerado para identificar o imóvel\n",
        "* name - nome da propriedade anunciada\n",
        "* host_id - número de id do proprietário (anfitrião) da propriedade\n",
        "* host_name - Nome do anfitrião\n",
        "* neighbourhood_group - esta coluna não contém nenhum valor válido\n",
        "* neighbourhood - nome do bairro\n",
        "* latitude - coordenada da latitude da propriedade\n",
        "* longitude - coordenada da longitude da propriedade\n",
        "* room_type - informa o tipo de quarto que é oferecido\n",
        "* price - preço para alugar o imóvel\n",
        "* minimum_nights - quantidade mínima de noites para reservar\n",
        "* number_of_reviews - número de reviews que a propriedade possui\n",
        "* last_review - data do último review\n",
        "* reviews_per_month - quantidade de reviews por mês\n",
        "* calculated_host_listings_count - quantidade de imóveis do mesmo anfitrião\n",
        "* availability_365 - número de dias de disponibilidade dentro de 365 dias\n",
        "\n",
        "Antes de iniciar qualquer análise, vamos verificar a cara do nosso *dataset*, analisando as 5 primeiras entradas."
      ]
    },
    {
      "cell_type": "code",
      "metadata": {
        "id": "2iS_dae7YQtO",
        "colab": {
          "base_uri": "https://localhost:8080/",
          "height": 469
        },
        "outputId": "4aac7dfa-4ba6-4cb4-98b7-e7f7e745077a"
      },
      "source": [
        "# mostrar as 5 primeiras entradas\n",
        "df.head()"
      ],
      "execution_count": 71,
      "outputs": [
        {
          "output_type": "execute_result",
          "data": {
            "text/html": [
              "<div>\n",
              "<style scoped>\n",
              "    .dataframe tbody tr th:only-of-type {\n",
              "        vertical-align: middle;\n",
              "    }\n",
              "\n",
              "    .dataframe tbody tr th {\n",
              "        vertical-align: top;\n",
              "    }\n",
              "\n",
              "    .dataframe thead th {\n",
              "        text-align: right;\n",
              "    }\n",
              "</style>\n",
              "<table border=\"1\" class=\"dataframe\">\n",
              "  <thead>\n",
              "    <tr style=\"text-align: right;\">\n",
              "      <th></th>\n",
              "      <th>id</th>\n",
              "      <th>name</th>\n",
              "      <th>host_id</th>\n",
              "      <th>host_name</th>\n",
              "      <th>neighbourhood_group</th>\n",
              "      <th>neighbourhood</th>\n",
              "      <th>latitude</th>\n",
              "      <th>longitude</th>\n",
              "      <th>room_type</th>\n",
              "      <th>price</th>\n",
              "      <th>minimum_nights</th>\n",
              "      <th>number_of_reviews</th>\n",
              "      <th>last_review</th>\n",
              "      <th>reviews_per_month</th>\n",
              "      <th>calculated_host_listings_count</th>\n",
              "      <th>availability_365</th>\n",
              "    </tr>\n",
              "  </thead>\n",
              "  <tbody>\n",
              "    <tr>\n",
              "      <th>0</th>\n",
              "      <td>42932</td>\n",
              "      <td>Charming apartment, Oslo Center, Ro</td>\n",
              "      <td>187463</td>\n",
              "      <td>Cecilie</td>\n",
              "      <td>NaN</td>\n",
              "      <td>Frogner</td>\n",
              "      <td>59.91234</td>\n",
              "      <td>10.72384</td>\n",
              "      <td>Entire home/apt</td>\n",
              "      <td>1999</td>\n",
              "      <td>3</td>\n",
              "      <td>38</td>\n",
              "      <td>2020-01-13</td>\n",
              "      <td>0.43</td>\n",
              "      <td>1</td>\n",
              "      <td>1</td>\n",
              "    </tr>\n",
              "    <tr>\n",
              "      <th>1</th>\n",
              "      <td>69964</td>\n",
              "      <td>Lovely flat in Oslo city centre</td>\n",
              "      <td>175633</td>\n",
              "      <td>Kris</td>\n",
              "      <td>NaN</td>\n",
              "      <td>Sagene</td>\n",
              "      <td>59.93898</td>\n",
              "      <td>10.77360</td>\n",
              "      <td>Entire home/apt</td>\n",
              "      <td>427</td>\n",
              "      <td>28</td>\n",
              "      <td>7</td>\n",
              "      <td>2013-05-18</td>\n",
              "      <td>0.06</td>\n",
              "      <td>1</td>\n",
              "      <td>301</td>\n",
              "    </tr>\n",
              "    <tr>\n",
              "      <th>2</th>\n",
              "      <td>71725</td>\n",
              "      <td>Central big room - ap with balcony</td>\n",
              "      <td>368229</td>\n",
              "      <td>Reidun</td>\n",
              "      <td>NaN</td>\n",
              "      <td>Gamle Oslo</td>\n",
              "      <td>59.90611</td>\n",
              "      <td>10.78000</td>\n",
              "      <td>Private room</td>\n",
              "      <td>524</td>\n",
              "      <td>4</td>\n",
              "      <td>50</td>\n",
              "      <td>2020-03-12</td>\n",
              "      <td>0.42</td>\n",
              "      <td>1</td>\n",
              "      <td>365</td>\n",
              "    </tr>\n",
              "    <tr>\n",
              "      <th>3</th>\n",
              "      <td>77108</td>\n",
              "      <td>Friendly &amp; spacious in uptown Oslo</td>\n",
              "      <td>412523</td>\n",
              "      <td>Gunn Hild</td>\n",
              "      <td>NaN</td>\n",
              "      <td>Frogner</td>\n",
              "      <td>59.92478</td>\n",
              "      <td>10.71649</td>\n",
              "      <td>Entire home/apt</td>\n",
              "      <td>2210</td>\n",
              "      <td>7</td>\n",
              "      <td>15</td>\n",
              "      <td>2019-12-28</td>\n",
              "      <td>0.13</td>\n",
              "      <td>1</td>\n",
              "      <td>358</td>\n",
              "    </tr>\n",
              "    <tr>\n",
              "      <th>4</th>\n",
              "      <td>92103</td>\n",
              "      <td>Trendy Urban Downtown Oslo.</td>\n",
              "      <td>496205</td>\n",
              "      <td>Dorte</td>\n",
              "      <td>NaN</td>\n",
              "      <td>Grünerløkka</td>\n",
              "      <td>59.91975</td>\n",
              "      <td>10.75466</td>\n",
              "      <td>Entire home/apt</td>\n",
              "      <td>1261</td>\n",
              "      <td>3</td>\n",
              "      <td>20</td>\n",
              "      <td>2013-08-18</td>\n",
              "      <td>0.17</td>\n",
              "      <td>1</td>\n",
              "      <td>365</td>\n",
              "    </tr>\n",
              "  </tbody>\n",
              "</table>\n",
              "</div>"
            ],
            "text/plain": [
              "      id  ... availability_365\n",
              "0  42932  ...                1\n",
              "1  69964  ...              301\n",
              "2  71725  ...              365\n",
              "3  77108  ...              358\n",
              "4  92103  ...              365\n",
              "\n",
              "[5 rows x 16 columns]"
            ]
          },
          "metadata": {
            "tags": []
          },
          "execution_count": 71
        }
      ]
    },
    {
      "cell_type": "markdown",
      "metadata": {
        "id": "6-B_qtEaYEd-"
      },
      "source": [
        "### **Q1. Quantos atributos (variáveis) e quantas entradas o nosso conjunto de dados possui? Quais os tipos das variáveis?**"
      ]
    },
    {
      "cell_type": "code",
      "metadata": {
        "id": "TFRK0tniLV-G",
        "colab": {
          "base_uri": "https://localhost:8080/",
          "height": 366
        },
        "outputId": "157a8297-457e-48f2-9d3c-2a7e69ab8a6c"
      },
      "source": [
        "# identificar o volume de dados do DataFrame\n",
        "print(\"Entradas:\\t {}\".format(df.shape[0]))\n",
        "print(\"Entradas:\\t {}\".format(df.shape[1]))\n",
        "\n",
        "# verificar as 5 primeiras entradas do dataset\n",
        "display(df.dtypes)"
      ],
      "execution_count": 72,
      "outputs": [
        {
          "output_type": "stream",
          "text": [
            "Entradas:\t 3010\n",
            "Entradas:\t 16\n"
          ],
          "name": "stdout"
        },
        {
          "output_type": "display_data",
          "data": {
            "text/plain": [
              "id                                  int64\n",
              "name                               object\n",
              "host_id                             int64\n",
              "host_name                          object\n",
              "neighbourhood_group               float64\n",
              "neighbourhood                      object\n",
              "latitude                          float64\n",
              "longitude                         float64\n",
              "room_type                          object\n",
              "price                               int64\n",
              "minimum_nights                      int64\n",
              "number_of_reviews                   int64\n",
              "last_review                        object\n",
              "reviews_per_month                 float64\n",
              "calculated_host_listings_count      int64\n",
              "availability_365                    int64\n",
              "dtype: object"
            ]
          },
          "metadata": {
            "tags": []
          }
        }
      ]
    },
    {
      "cell_type": "markdown",
      "metadata": {
        "id": "yz1urSUGW9iE"
      },
      "source": [
        "### **Q2. Qual a porcentagem de valores ausentes no *dataset*?**"
      ]
    },
    {
      "cell_type": "code",
      "metadata": {
        "id": "plk2FjbCXOqP",
        "colab": {
          "base_uri": "https://localhost:8080/"
        },
        "outputId": "68795c29-5316-490b-d888-532e5bcbcf24"
      },
      "source": [
        "# ordenar em ordem decrescente as variáveis por seus valores ausentes\n",
        "(df.isnull().sum() / df.shape[0]).sort_values(ascending=False)"
      ],
      "execution_count": 73,
      "outputs": [
        {
          "output_type": "execute_result",
          "data": {
            "text/plain": [
              "neighbourhood_group               1.000000\n",
              "reviews_per_month                 0.182060\n",
              "last_review                       0.182060\n",
              "name                              0.000332\n",
              "availability_365                  0.000000\n",
              "calculated_host_listings_count    0.000000\n",
              "number_of_reviews                 0.000000\n",
              "minimum_nights                    0.000000\n",
              "price                             0.000000\n",
              "room_type                         0.000000\n",
              "longitude                         0.000000\n",
              "latitude                          0.000000\n",
              "neighbourhood                     0.000000\n",
              "host_name                         0.000000\n",
              "host_id                           0.000000\n",
              "id                                0.000000\n",
              "dtype: float64"
            ]
          },
          "metadata": {
            "tags": []
          },
          "execution_count": 73
        }
      ]
    },
    {
      "cell_type": "markdown",
      "metadata": {
        "id": "iHXvvHIxaoNc"
      },
      "source": [
        "### **Q3. Qual o tipo de distribuição das variáveis?** "
      ]
    },
    {
      "cell_type": "code",
      "metadata": {
        "id": "q2wWSfeRbmBo",
        "colab": {
          "base_uri": "https://localhost:8080/",
          "height": 607
        },
        "outputId": "0dc7f593-c158-4453-bff7-0d9f0ced4012"
      },
      "source": [
        "# plotar o histograma das variáveis numéricas\n",
        "df.hist(bins=15, figsize=(15,10));"
      ],
      "execution_count": 74,
      "outputs": [
        {
          "output_type": "display_data",
          "data": {
            "image/png": "[encoded data removed]",
            "text/plain": [
              "<Figure size 1080x720 with 12 Axes>"
            ]
          },
          "metadata": {
            "tags": [],
            "needs_background": "light"
          }
        }
      ]
    },
    {
      "cell_type": "markdown",
      "metadata": {
        "id": "7x4aw1j5wNmn"
      },
      "source": [
        "**Q4. Qual a média dos preços de aluguel?**"
      ]
    },
    {
      "cell_type": "code",
      "metadata": {
        "id": "ff-8gUahLk-C",
        "colab": {
          "base_uri": "https://localhost:8080/"
        },
        "outputId": "da3b6865-adbe-4d7b-fe7a-d6e220d1c612"
      },
      "source": [
        "# ver a média da coluna `price``\n",
        "df.price.mean()"
      ],
      "execution_count": 75,
      "outputs": [
        {
          "output_type": "execute_result",
          "data": {
            "text/plain": [
              "1148.9159468438538"
            ]
          },
          "metadata": {
            "tags": []
          },
          "execution_count": 75
        }
      ]
    },
    {
      "cell_type": "code",
      "metadata": {
        "colab": {
          "base_uri": "https://localhost:8080/",
          "height": 300
        },
        "id": "5aZ91b6M9tCm",
        "outputId": "ef7d9943-9e88-46b9-8953-b47d6b2f379e"
      },
      "source": [
        "# ver o resumo estatístico das variáveis numéricas\r\n",
        "df[['price', 'minimum_nights', 'number_of_reviews', 'reviews_per_month',\r\n",
        "    'calculated_host_listings_count', 'availability_365']].describe()"
      ],
      "execution_count": 76,
      "outputs": [
        {
          "output_type": "execute_result",
          "data": {
            "text/html": [
              "<div>\n",
              "<style scoped>\n",
              "    .dataframe tbody tr th:only-of-type {\n",
              "        vertical-align: middle;\n",
              "    }\n",
              "\n",
              "    .dataframe tbody tr th {\n",
              "        vertical-align: top;\n",
              "    }\n",
              "\n",
              "    .dataframe thead th {\n",
              "        text-align: right;\n",
              "    }\n",
              "</style>\n",
              "<table border=\"1\" class=\"dataframe\">\n",
              "  <thead>\n",
              "    <tr style=\"text-align: right;\">\n",
              "      <th></th>\n",
              "      <th>price</th>\n",
              "      <th>minimum_nights</th>\n",
              "      <th>number_of_reviews</th>\n",
              "      <th>reviews_per_month</th>\n",
              "      <th>calculated_host_listings_count</th>\n",
              "      <th>availability_365</th>\n",
              "    </tr>\n",
              "  </thead>\n",
              "  <tbody>\n",
              "    <tr>\n",
              "      <th>count</th>\n",
              "      <td>3010.000000</td>\n",
              "      <td>3010.000000</td>\n",
              "      <td>3010.000000</td>\n",
              "      <td>2462.000000</td>\n",
              "      <td>3010.000000</td>\n",
              "      <td>3010.000000</td>\n",
              "    </tr>\n",
              "    <tr>\n",
              "      <th>mean</th>\n",
              "      <td>1148.915947</td>\n",
              "      <td>5.086711</td>\n",
              "      <td>25.840199</td>\n",
              "      <td>0.889813</td>\n",
              "      <td>3.775415</td>\n",
              "      <td>126.621262</td>\n",
              "    </tr>\n",
              "    <tr>\n",
              "      <th>std</th>\n",
              "      <td>2042.174465</td>\n",
              "      <td>18.608474</td>\n",
              "      <td>57.085979</td>\n",
              "      <td>1.147310</td>\n",
              "      <td>10.573489</td>\n",
              "      <td>136.473223</td>\n",
              "    </tr>\n",
              "    <tr>\n",
              "      <th>min</th>\n",
              "      <td>0.000000</td>\n",
              "      <td>1.000000</td>\n",
              "      <td>0.000000</td>\n",
              "      <td>0.010000</td>\n",
              "      <td>1.000000</td>\n",
              "      <td>0.000000</td>\n",
              "    </tr>\n",
              "    <tr>\n",
              "      <th>25%</th>\n",
              "      <td>565.250000</td>\n",
              "      <td>2.000000</td>\n",
              "      <td>1.000000</td>\n",
              "      <td>0.200000</td>\n",
              "      <td>1.000000</td>\n",
              "      <td>0.000000</td>\n",
              "    </tr>\n",
              "    <tr>\n",
              "      <th>50%</th>\n",
              "      <td>819.500000</td>\n",
              "      <td>2.000000</td>\n",
              "      <td>6.000000</td>\n",
              "      <td>0.490000</td>\n",
              "      <td>1.000000</td>\n",
              "      <td>87.000000</td>\n",
              "    </tr>\n",
              "    <tr>\n",
              "      <th>75%</th>\n",
              "      <td>1214.000000</td>\n",
              "      <td>4.000000</td>\n",
              "      <td>23.000000</td>\n",
              "      <td>1.060000</td>\n",
              "      <td>2.000000</td>\n",
              "      <td>237.500000</td>\n",
              "    </tr>\n",
              "    <tr>\n",
              "      <th>max</th>\n",
              "      <td>85800.000000</td>\n",
              "      <td>500.000000</td>\n",
              "      <td>844.000000</td>\n",
              "      <td>9.490000</td>\n",
              "      <td>62.000000</td>\n",
              "      <td>365.000000</td>\n",
              "    </tr>\n",
              "  </tbody>\n",
              "</table>\n",
              "</div>"
            ],
            "text/plain": [
              "              price  ...  availability_365\n",
              "count   3010.000000  ...       3010.000000\n",
              "mean    1148.915947  ...        126.621262\n",
              "std     2042.174465  ...        136.473223\n",
              "min        0.000000  ...          0.000000\n",
              "25%      565.250000  ...          0.000000\n",
              "50%      819.500000  ...         87.000000\n",
              "75%     1214.000000  ...        237.500000\n",
              "max    85800.000000  ...        365.000000\n",
              "\n",
              "[8 rows x 6 columns]"
            ]
          },
          "metadata": {
            "tags": []
          },
          "execution_count": 76
        }
      ]
    },
    {
      "cell_type": "code",
      "metadata": {
        "colab": {
          "base_uri": "https://localhost:8080/",
          "height": 266
        },
        "id": "ZYtuZQCL-A6U",
        "outputId": "58942a42-db29-47dc-d1ad-7ef62b16657f"
      },
      "source": [
        "# minimum_nights\r\n",
        "df.minimum_nights.plot(kind='box', vert=False, figsize=(15,3))\r\n",
        "plt.show()\r\n",
        "\r\n",
        "# ver quantidade de valores acima de 60 dias para minimum_nights\r\n",
        "print(\"minimum_nights: valores acima de 60:\")\r\n",
        "print(\"{} entradas\".format(len(df[df.minimum_nights > 60])))\r\n",
        "print(\"{:.4f}%\".format((len(df[df.minimum_nights > 60]) / df.shape[0])*100))"
      ],
      "execution_count": 77,
      "outputs": [
        {
          "output_type": "display_data",
          "data": {
            "image/png": "[encoded data removed]",
            "text/plain": [
              "<Figure size 1080x216 with 1 Axes>"
            ]
          },
          "metadata": {
            "tags": [],
            "needs_background": "light"
          }
        },
        {
          "output_type": "stream",
          "text": [
            "minimum_nights: valores acima de 60:\n",
            "21 entradas\n",
            "0.6977%\n"
          ],
          "name": "stdout"
        }
      ]
    },
    {
      "cell_type": "code",
      "metadata": {
        "colab": {
          "base_uri": "https://localhost:8080/",
          "height": 284
        },
        "id": "BdK3taPD-6FI",
        "outputId": "f0100f13-e567-4f2c-c28d-55fefec5c246"
      },
      "source": [
        "# price\r\n",
        "df.price.plot(kind='box', vert=False, figsize=(15,3))\r\n",
        "plt.show()\r\n",
        "\r\n",
        "# ver quantidade de valores acima de 2000 para price\r\n",
        "print(\"\\nprice: valores acima de 2000\")\r\n",
        "print(\"{} entradas\".format(len(df[df.price > 2000])))\r\n",
        "print(\"{:.4f}%\".format((len(df[df.price > 2000]) / df.shape[0])*100))"
      ],
      "execution_count": 78,
      "outputs": [
        {
          "output_type": "display_data",
          "data": {
            "image/png": "[encoded data removed]",
            "text/plain": [
              "<Figure size 1080x216 with 1 Axes>"
            ]
          },
          "metadata": {
            "tags": [],
            "needs_background": "light"
          }
        },
        {
          "output_type": "stream",
          "text": [
            "\n",
            "price: valores acima de 2000\n",
            "271 entradas\n",
            "9.0033%\n"
          ],
          "name": "stdout"
        }
      ]
    },
    {
      "cell_type": "code",
      "metadata": {
        "colab": {
          "base_uri": "https://localhost:8080/",
          "height": 607
        },
        "id": "JrhgLm99_ezF",
        "outputId": "a7404dd0-7569-4c50-b6df-094a4c012cd0"
      },
      "source": [
        "# remover os *outliers* em um novo DataFrame\r\n",
        "df_clean = df.copy()\r\n",
        "df_clean.drop(df_clean[df_clean.price > 2000].index, axis=0, inplace=True)\r\n",
        "df_clean.drop(df_clean[df_clean.minimum_nights > 60].index, axis=0, inplace=True)\r\n",
        "\r\n",
        "\r\n",
        "# remover `neighbourhood_group`, pois está vazio\r\n",
        "df_clean.drop('neighbourhood_group', axis=1, inplace=True)\r\n",
        "\r\n",
        "# plotar o histograma para as variáveis numéricas\r\n",
        "df_clean.hist(bins=15, figsize=(15,10));\r\n"
      ],
      "execution_count": 79,
      "outputs": [
        {
          "output_type": "display_data",
          "data": {
            "image/png": "[encoded data removed]",
            "text/plain": [
              "<Figure size 1080x720 with 12 Axes>"
            ]
          },
          "metadata": {
            "tags": [],
            "needs_background": "light"
          }
        }
      ]
    },
    {
      "cell_type": "markdown",
      "metadata": {
        "id": "jSCIMMZ-BRKH"
      },
      "source": [
        "**Q4. Qual a média dos preços de aluguel após limpar outliers?**"
      ]
    },
    {
      "cell_type": "code",
      "metadata": {
        "colab": {
          "base_uri": "https://localhost:8080/"
        },
        "id": "Vz9oLiB_BH4T",
        "outputId": "ad6f111c-92b6-45a0-8674-bd8c41a77e51"
      },
      "source": [
        "# ver a média da coluna `price``\r\n",
        "df_clean.price.mean()"
      ],
      "execution_count": 88,
      "outputs": [
        {
          "output_type": "execute_result",
          "data": {
            "text/plain": [
              "863.8552534900808"
            ]
          },
          "metadata": {
            "tags": []
          },
          "execution_count": 88
        }
      ]
    },
    {
      "cell_type": "markdown",
      "metadata": {
        "id": "IXn2oIo5qx-w"
      },
      "source": [
        "### **Q4. Qual a correlação existente entre as variáveis**"
      ]
    },
    {
      "cell_type": "code",
      "metadata": {
        "id": "x2ayzBajqxyd",
        "colab": {
          "base_uri": "https://localhost:8080/",
          "height": 238
        },
        "outputId": "c8400bbe-774f-4cdf-b4e7-6947b4b41921"
      },
      "source": [
        "# criar uma matriz de correlação\n",
        "corr = df_clean[['price', 'minimum_nights', 'number_of_reviews', 'reviews_per_month',\n",
        "    'calculated_host_listings_count', 'availability_365']].corr()\n",
        "\n",
        "# mostrar a matriz de correlação\n",
        "display(corr)"
      ],
      "execution_count": 81,
      "outputs": [
        {
          "output_type": "display_data",
          "data": {
            "text/html": [
              "<div>\n",
              "<style scoped>\n",
              "    .dataframe tbody tr th:only-of-type {\n",
              "        vertical-align: middle;\n",
              "    }\n",
              "\n",
              "    .dataframe tbody tr th {\n",
              "        vertical-align: top;\n",
              "    }\n",
              "\n",
              "    .dataframe thead th {\n",
              "        text-align: right;\n",
              "    }\n",
              "</style>\n",
              "<table border=\"1\" class=\"dataframe\">\n",
              "  <thead>\n",
              "    <tr style=\"text-align: right;\">\n",
              "      <th></th>\n",
              "      <th>price</th>\n",
              "      <th>minimum_nights</th>\n",
              "      <th>number_of_reviews</th>\n",
              "      <th>reviews_per_month</th>\n",
              "      <th>calculated_host_listings_count</th>\n",
              "      <th>availability_365</th>\n",
              "    </tr>\n",
              "  </thead>\n",
              "  <tbody>\n",
              "    <tr>\n",
              "      <th>price</th>\n",
              "      <td>1.000000</td>\n",
              "      <td>-0.069355</td>\n",
              "      <td>-0.131823</td>\n",
              "      <td>-0.159796</td>\n",
              "      <td>-0.049142</td>\n",
              "      <td>0.044089</td>\n",
              "    </tr>\n",
              "    <tr>\n",
              "      <th>minimum_nights</th>\n",
              "      <td>-0.069355</td>\n",
              "      <td>1.000000</td>\n",
              "      <td>-0.069165</td>\n",
              "      <td>-0.111110</td>\n",
              "      <td>0.002790</td>\n",
              "      <td>0.017646</td>\n",
              "    </tr>\n",
              "    <tr>\n",
              "      <th>number_of_reviews</th>\n",
              "      <td>-0.131823</td>\n",
              "      <td>-0.069165</td>\n",
              "      <td>1.000000</td>\n",
              "      <td>0.831438</td>\n",
              "      <td>-0.044275</td>\n",
              "      <td>0.029749</td>\n",
              "    </tr>\n",
              "    <tr>\n",
              "      <th>reviews_per_month</th>\n",
              "      <td>-0.159796</td>\n",
              "      <td>-0.111110</td>\n",
              "      <td>0.831438</td>\n",
              "      <td>1.000000</td>\n",
              "      <td>0.017481</td>\n",
              "      <td>-0.005766</td>\n",
              "    </tr>\n",
              "    <tr>\n",
              "      <th>calculated_host_listings_count</th>\n",
              "      <td>-0.049142</td>\n",
              "      <td>0.002790</td>\n",
              "      <td>-0.044275</td>\n",
              "      <td>0.017481</td>\n",
              "      <td>1.000000</td>\n",
              "      <td>0.159615</td>\n",
              "    </tr>\n",
              "    <tr>\n",
              "      <th>availability_365</th>\n",
              "      <td>0.044089</td>\n",
              "      <td>0.017646</td>\n",
              "      <td>0.029749</td>\n",
              "      <td>-0.005766</td>\n",
              "      <td>0.159615</td>\n",
              "      <td>1.000000</td>\n",
              "    </tr>\n",
              "  </tbody>\n",
              "</table>\n",
              "</div>"
            ],
            "text/plain": [
              "                                   price  ...  availability_365\n",
              "price                           1.000000  ...          0.044089\n",
              "minimum_nights                 -0.069355  ...          0.017646\n",
              "number_of_reviews              -0.131823  ...          0.029749\n",
              "reviews_per_month              -0.159796  ...         -0.005766\n",
              "calculated_host_listings_count -0.049142  ...          0.159615\n",
              "availability_365                0.044089  ...          1.000000\n",
              "\n",
              "[6 rows x 6 columns]"
            ]
          },
          "metadata": {
            "tags": []
          }
        }
      ]
    },
    {
      "cell_type": "code",
      "metadata": {
        "id": "91UujDr6ueqE",
        "colab": {
          "base_uri": "https://localhost:8080/",
          "height": 411
        },
        "outputId": "aed2a3eb-c078-4f1a-8687-bd2709434df8"
      },
      "source": [
        "# plotar um heatmap a partir das correlações\n",
        "sns.heatmap(corr, cmap='RdBu', fmt='.2f', square=True, linecolor='white', annot=True);"
      ],
      "execution_count": 82,
      "outputs": [
        {
          "output_type": "display_data",
          "data": {
            "image/png": "[encoded data removed]",
            "text/plain": [
              "<Figure size 432x288 with 2 Axes>"
            ]
          },
          "metadata": {
            "tags": [],
            "needs_background": "light"
          }
        }
      ]
    },
    {
      "cell_type": "markdown",
      "metadata": {
        "id": "7b6RMWpuHKN-"
      },
      "source": [
        "### **Q5. Qual o tipo de imóvel mais alugado no Airbnb?**"
      ]
    },
    {
      "cell_type": "code",
      "metadata": {
        "id": "ueLPNWvPHgfB",
        "colab": {
          "base_uri": "https://localhost:8080/"
        },
        "outputId": "9fe6b7c5-b44e-44d9-c3ca-02d87d124ca7"
      },
      "source": [
        "# mostrar a quantidade de cada tipo de imóvel disponível\n",
        "df_clean.room_type.value_counts()"
      ],
      "execution_count": 83,
      "outputs": [
        {
          "output_type": "execute_result",
          "data": {
            "text/plain": [
              "Entire home/apt    2032\n",
              "Private room        655\n",
              "Shared room          27\n",
              "Hotel room            8\n",
              "Name: room_type, dtype: int64"
            ]
          },
          "metadata": {
            "tags": []
          },
          "execution_count": 83
        }
      ]
    },
    {
      "cell_type": "code",
      "metadata": {
        "id": "EvwoO-XAHhIm",
        "colab": {
          "base_uri": "https://localhost:8080/"
        },
        "outputId": "19ce611e-9802-4762-dbe1-04943bec68fd"
      },
      "source": [
        "# mostrar a porcentagem de cada tipo de imóvel disponível\n",
        "df_clean.room_type.value_counts() / df_clean.shape[0]"
      ],
      "execution_count": 84,
      "outputs": [
        {
          "output_type": "execute_result",
          "data": {
            "text/plain": [
              "Entire home/apt    0.746510\n",
              "Private room       0.240632\n",
              "Shared room        0.009919\n",
              "Hotel room         0.002939\n",
              "Name: room_type, dtype: float64"
            ]
          },
          "metadata": {
            "tags": []
          },
          "execution_count": 84
        }
      ]
    },
    {
      "cell_type": "markdown",
      "metadata": {
        "id": "MFa5NbnLJMcd"
      },
      "source": [
        "### **Q6. Qual a localidade mais cara do dataset?**\n",
        "\n"
      ]
    },
    {
      "cell_type": "code",
      "metadata": {
        "id": "MD_xa143JZpi",
        "colab": {
          "base_uri": "https://localhost:8080/"
        },
        "outputId": "b4c0fc71-aab7-4dea-f947-f12494ffaa24"
      },
      "source": [
        "# ver preços por bairros, na média\n",
        "df_clean.groupby(['neighbourhood']).price.mean().sort_values(ascending=False)[:10]"
      ],
      "execution_count": 89,
      "outputs": [
        {
          "output_type": "execute_result",
          "data": {
            "text/plain": [
              "neighbourhood\n",
              "Stovner           1073.714286\n",
              "Sentrum            981.646154\n",
              "Frogner            940.586420\n",
              "Vestre Aker        907.716049\n",
              "Nordstrand         907.011111\n",
              "Marka              905.071429\n",
              "St. Hanshaugen     873.498471\n",
              "Gamle Oslo         859.422993\n",
              "Grünerløkka        853.089965\n",
              "Ullern             851.291667\n",
              "Name: price, dtype: float64"
            ]
          },
          "metadata": {
            "tags": []
          },
          "execution_count": 89
        }
      ]
    },
    {
      "cell_type": "code",
      "metadata": {
        "colab": {
          "base_uri": "https://localhost:8080/",
          "height": 552
        },
        "id": "HmzZ2FCsB5FD",
        "outputId": "d9bc7a17-0804-4a53-8397-0ef48dc7d507"
      },
      "source": [
        "# ver quantidade de imóveis em Stovner\r\n",
        "print(df_clean[df_clean.neighbourhood == \"Stovner\"].shape)\r\n",
        "\r\n",
        "# ver quantidade de imóveis em Sentrum            \r\n",
        "print(df_clean[df_clean.neighbourhood == \"Sentrum\"].shape)\r\n",
        "\r\n",
        "# ver quantidade de imóveis em Frogner            \r\n",
        "print(df_clean[df_clean.neighbourhood == \"Frogner\"].shape)\r\n",
        "\r\n",
        "# ver as 7 entradas do Complexo do Alemão\r\n",
        "df_clean[df_clean.neighbourhood == \"Stovner\"]"
      ],
      "execution_count": 90,
      "outputs": [
        {
          "output_type": "stream",
          "text": [
            "(7, 15)\n",
            "(65, 15)\n",
            "(486, 15)\n"
          ],
          "name": "stdout"
        },
        {
          "output_type": "execute_result",
          "data": {
            "text/html": [
              "<div>\n",
              "<style scoped>\n",
              "    .dataframe tbody tr th:only-of-type {\n",
              "        vertical-align: middle;\n",
              "    }\n",
              "\n",
              "    .dataframe tbody tr th {\n",
              "        vertical-align: top;\n",
              "    }\n",
              "\n",
              "    .dataframe thead th {\n",
              "        text-align: right;\n",
              "    }\n",
              "</style>\n",
              "<table border=\"1\" class=\"dataframe\">\n",
              "  <thead>\n",
              "    <tr style=\"text-align: right;\">\n",
              "      <th></th>\n",
              "      <th>id</th>\n",
              "      <th>name</th>\n",
              "      <th>host_id</th>\n",
              "      <th>host_name</th>\n",
              "      <th>neighbourhood</th>\n",
              "      <th>latitude</th>\n",
              "      <th>longitude</th>\n",
              "      <th>room_type</th>\n",
              "      <th>price</th>\n",
              "      <th>minimum_nights</th>\n",
              "      <th>number_of_reviews</th>\n",
              "      <th>last_review</th>\n",
              "      <th>reviews_per_month</th>\n",
              "      <th>calculated_host_listings_count</th>\n",
              "      <th>availability_365</th>\n",
              "    </tr>\n",
              "  </thead>\n",
              "  <tbody>\n",
              "    <tr>\n",
              "      <th>70</th>\n",
              "      <td>1574090</td>\n",
              "      <td>Glaced balcony-retreat</td>\n",
              "      <td>8366924</td>\n",
              "      <td>Solvor</td>\n",
              "      <td>Stovner</td>\n",
              "      <td>59.96004</td>\n",
              "      <td>10.93330</td>\n",
              "      <td>Private room</td>\n",
              "      <td>367</td>\n",
              "      <td>1</td>\n",
              "      <td>50</td>\n",
              "      <td>2018-06-03</td>\n",
              "      <td>0.61</td>\n",
              "      <td>1</td>\n",
              "      <td>89</td>\n",
              "    </tr>\n",
              "    <tr>\n",
              "      <th>799</th>\n",
              "      <td>15970568</td>\n",
              "      <td>Charming house Høybråten, Oslo</td>\n",
              "      <td>69418258</td>\n",
              "      <td>Lillian</td>\n",
              "      <td>Stovner</td>\n",
              "      <td>59.94350</td>\n",
              "      <td>10.92018</td>\n",
              "      <td>Entire home/apt</td>\n",
              "      <td>660</td>\n",
              "      <td>2</td>\n",
              "      <td>8</td>\n",
              "      <td>2019-08-05</td>\n",
              "      <td>0.18</td>\n",
              "      <td>1</td>\n",
              "      <td>0</td>\n",
              "    </tr>\n",
              "    <tr>\n",
              "      <th>954</th>\n",
              "      <td>18993175</td>\n",
              "      <td>Peaceful, beautiful place, 15 minutes from Oslo</td>\n",
              "      <td>132483168</td>\n",
              "      <td>Iffat</td>\n",
              "      <td>Stovner</td>\n",
              "      <td>59.94688</td>\n",
              "      <td>10.90942</td>\n",
              "      <td>Entire home/apt</td>\n",
              "      <td>2000</td>\n",
              "      <td>1</td>\n",
              "      <td>2</td>\n",
              "      <td>2018-01-25</td>\n",
              "      <td>0.05</td>\n",
              "      <td>1</td>\n",
              "      <td>0</td>\n",
              "    </tr>\n",
              "    <tr>\n",
              "      <th>1439</th>\n",
              "      <td>27102358</td>\n",
              "      <td>Big apartment in a relaxing atmosphere,Near ce...</td>\n",
              "      <td>151558579</td>\n",
              "      <td>Yawar</td>\n",
              "      <td>Stovner</td>\n",
              "      <td>59.95485</td>\n",
              "      <td>10.92960</td>\n",
              "      <td>Entire home/apt</td>\n",
              "      <td>999</td>\n",
              "      <td>1</td>\n",
              "      <td>100</td>\n",
              "      <td>2020-03-31</td>\n",
              "      <td>3.39</td>\n",
              "      <td>1</td>\n",
              "      <td>31</td>\n",
              "    </tr>\n",
              "    <tr>\n",
              "      <th>2187</th>\n",
              "      <td>39023798</td>\n",
              "      <td>En koselig, stille og  rolig i sentralt område</td>\n",
              "      <td>288308288</td>\n",
              "      <td>Negash</td>\n",
              "      <td>Stovner</td>\n",
              "      <td>59.95595</td>\n",
              "      <td>10.91644</td>\n",
              "      <td>Entire home/apt</td>\n",
              "      <td>790</td>\n",
              "      <td>5</td>\n",
              "      <td>11</td>\n",
              "      <td>2020-05-30</td>\n",
              "      <td>0.76</td>\n",
              "      <td>1</td>\n",
              "      <td>168</td>\n",
              "    </tr>\n",
              "    <tr>\n",
              "      <th>2375</th>\n",
              "      <td>41521463</td>\n",
              "      <td>Familiehus</td>\n",
              "      <td>307879599</td>\n",
              "      <td>Sven</td>\n",
              "      <td>Stovner</td>\n",
              "      <td>59.95363</td>\n",
              "      <td>10.93840</td>\n",
              "      <td>Entire home/apt</td>\n",
              "      <td>2000</td>\n",
              "      <td>2</td>\n",
              "      <td>2</td>\n",
              "      <td>2020-03-07</td>\n",
              "      <td>0.19</td>\n",
              "      <td>1</td>\n",
              "      <td>149</td>\n",
              "    </tr>\n",
              "    <tr>\n",
              "      <th>2574</th>\n",
              "      <td>43673503</td>\n",
              "      <td>Praktisk leilighet nær buss og tog.</td>\n",
              "      <td>16787626</td>\n",
              "      <td>Anders</td>\n",
              "      <td>Stovner</td>\n",
              "      <td>59.94514</td>\n",
              "      <td>10.91518</td>\n",
              "      <td>Entire home/apt</td>\n",
              "      <td>700</td>\n",
              "      <td>2</td>\n",
              "      <td>2</td>\n",
              "      <td>2020-12-29</td>\n",
              "      <td>2.00</td>\n",
              "      <td>1</td>\n",
              "      <td>90</td>\n",
              "    </tr>\n",
              "  </tbody>\n",
              "</table>\n",
              "</div>"
            ],
            "text/plain": [
              "            id  ... availability_365\n",
              "70     1574090  ...               89\n",
              "799   15970568  ...                0\n",
              "954   18993175  ...                0\n",
              "1439  27102358  ...               31\n",
              "2187  39023798  ...              168\n",
              "2375  41521463  ...              149\n",
              "2574  43673503  ...               90\n",
              "\n",
              "[7 rows x 15 columns]"
            ]
          },
          "metadata": {
            "tags": []
          },
          "execution_count": 90
        }
      ]
    },
    {
      "cell_type": "code",
      "metadata": {
        "id": "UxVJqJ_3W59I",
        "colab": {
          "base_uri": "https://localhost:8080/",
          "height": 476
        },
        "outputId": "3553e44d-b37f-467f-8e37-8c4f10aba56d"
      },
      "source": [
        "# plotar os imóveis pela latitude-longitude\n",
        "df_clean.plot(kind=\"scatter\", x='longitude', y='latitude', alpha=0.4, c=df_clean['price'], s=8,\n",
        "              cmap=plt.get_cmap('jet'), figsize=(12,8));"
      ],
      "execution_count": 91,
      "outputs": [
        {
          "output_type": "display_data",
          "data": {
            "image/png": "[encoded data removed]",
            "text/plain": [
              "<Figure size 864x576 with 2 Axes>"
            ]
          },
          "metadata": {
            "tags": [],
            "needs_background": "light"
          }
        }
      ]
    },
    {
      "cell_type": "markdown",
      "metadata": {
        "id": "vTneAMRUYvr1"
      },
      "source": [
        "### **Q7. Qual é a média do mínimo de noites para aluguel (minimum_nights)?**"
      ]
    },
    {
      "cell_type": "code",
      "metadata": {
        "id": "_VzNhrEgY82N",
        "colab": {
          "base_uri": "https://localhost:8080/"
        },
        "outputId": "084e83a9-4c4f-49f2-ebd5-df9e611cd22c"
      },
      "source": [
        "# ver a média da coluna `minimum_nights``\r\n",
        "\r\n",
        "df_clean.minimum_nights.mean()"
      ],
      "execution_count": 92,
      "outputs": [
        {
          "output_type": "execute_result",
          "data": {
            "text/plain": [
              "3.870315944158707"
            ]
          },
          "metadata": {
            "tags": []
          },
          "execution_count": 92
        }
      ]
    },
    {
      "cell_type": "markdown",
      "metadata": {
        "id": "GkvAg623RjoR"
      },
      "source": [
        "## Conclusões\n"
      ]
    },
    {
      "cell_type": "markdown",
      "metadata": {
        "id": "rbZ3Hsy9Ypw8"
      },
      "source": [
        "Após analisar e comparar a cidade de Oslo e a cidade do Rio de Janeiro, foi possivel observar que o dataset de ambas eram parecidos, apesar da cidade de Oslo ter apenas 0,8% do volume de dados, ambas apresentaram outliers no preço e no número minimo de noites, devido ao menor número de amostrar, optei por mudar a faixa de corte para 60 noites e o price para 2000, cortando assim somente 0.7% das entrada devido ao número de noites e 9% das entradas devido ao valor da diaria.\r\n",
        "\r\n"
      ]
    }
  ]
}